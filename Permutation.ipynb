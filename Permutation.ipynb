{
  "nbformat": 4,
  "nbformat_minor": 0,
  "metadata": {
    "colab": {
      "name": "Permutation.ipynb",
      "provenance": [],
      "authorship_tag": "ABX9TyP4y4anpUdJcpmYvrZmabw2",
      "include_colab_link": true
    },
    "kernelspec": {
      "name": "python3",
      "display_name": "Python 3"
    },
    "language_info": {
      "name": "python"
    }
  },
  "cells": [
    {
      "cell_type": "markdown",
      "metadata": {
        "id": "view-in-github",
        "colab_type": "text"
      },
      "source": [
        "<a href=\"https://colab.research.google.com/github/shanberochka/Joy/blob/main/Permutation.ipynb\" target=\"_parent\"><img src=\"https://colab.research.google.com/assets/colab-badge.svg\" alt=\"Open In Colab\"/></a>"
      ]
    },
    {
      "cell_type": "code",
      "metadata": {
        "id": "D7TDRRZEOMJl"
      },
      "source": [
        "V_4 = ['2143', '3412', '4321', '1234']"
      ],
      "execution_count": null,
      "outputs": []
    },
    {
      "cell_type": "code",
      "metadata": {
        "id": "e_8V29oVOqkQ"
      },
      "source": [
        "def permut(x1,x2):\n",
        "  \"\"\"\n",
        "  Make compositon x2 to x1(from right to left)\n",
        "  \"\"\"\n",
        "  x3 = str()\n",
        "  for i in range(len(x1)):\n",
        "    x3+=x1[int(x2[i])-1]\n",
        "  return x3"
      ],
      "execution_count": null,
      "outputs": []
    },
    {
      "cell_type": "code",
      "metadata": {
        "colab": {
          "base_uri": "https://localhost:8080/"
        },
        "id": "9x2m0yccP2jl",
        "outputId": "221ffcbc-bfba-4407-b2b3-bfebf3ea44a2"
      },
      "source": [
        "[permut('1243', v) for v in V_4]"
      ],
      "execution_count": null,
      "outputs": [
        {
          "output_type": "execute_result",
          "data": {
            "text/plain": [
              "['2134', '4312', '3421', '1243']"
            ]
          },
          "metadata": {
            "tags": []
          },
          "execution_count": 38
        }
      ]
    },
    {
      "cell_type": "code",
      "metadata": {
        "colab": {
          "base_uri": "https://localhost:8080/"
        },
        "id": "zRC5Fkl-XEoM",
        "outputId": "b35cf0de-afce-417e-9354-c68f97fae4e8"
      },
      "source": [
        "[permut('1432', v) for v in V_4]"
      ],
      "execution_count": null,
      "outputs": [
        {
          "output_type": "execute_result",
          "data": {
            "text/plain": [
              "['4123', '3214', '2341', '1432']"
            ]
          },
          "metadata": {
            "tags": []
          },
          "execution_count": 42
        }
      ]
    },
    {
      "cell_type": "code",
      "metadata": {
        "colab": {
          "base_uri": "https://localhost:8080/"
        },
        "id": "jHHfH77jX6zN",
        "outputId": "d0a418c3-221f-4879-8706-6db1d6b5163a"
      },
      "source": [
        "[permut('4123', v) for v in V_4]"
      ],
      "execution_count": null,
      "outputs": [
        {
          "output_type": "execute_result",
          "data": {
            "text/plain": [
              "['1432', '2341', '3214', '4123']"
            ]
          },
          "metadata": {
            "tags": []
          },
          "execution_count": 49
        }
      ]
    },
    {
      "cell_type": "code",
      "metadata": {
        "id": "UUvRiaIJam3c"
      },
      "source": [
        "R = ['1243', '1324', '1342', '1423', '1432']"
      ],
      "execution_count": null,
      "outputs": []
    },
    {
      "cell_type": "code",
      "metadata": {
        "colab": {
          "base_uri": "https://localhost:8080/"
        },
        "id": "5KKnjhKefHFg",
        "outputId": "ec3a2f9b-9ca5-4ce8-da66-4c209e4a4951"
      },
      "source": [
        "[permut('1243', v) for v in R]"
      ],
      "execution_count": null,
      "outputs": [
        {
          "output_type": "execute_result",
          "data": {
            "text/plain": [
              "['1234', '1423', '1432', '1324', '1342']"
            ]
          },
          "metadata": {
            "tags": []
          },
          "execution_count": 52
        }
      ]
    },
    {
      "cell_type": "code",
      "metadata": {
        "colab": {
          "base_uri": "https://localhost:8080/"
        },
        "id": "eg-14IYQfNZQ",
        "outputId": "f8e9ff8a-3a6b-4627-ec90-4a719b133d7c"
      },
      "source": [
        "[permut('1342', v) for v in R]"
      ],
      "execution_count": null,
      "outputs": [
        {
          "output_type": "execute_result",
          "data": {
            "text/plain": [
              "['1324', '1432', '1423', '1234', '1243']"
            ]
          },
          "metadata": {
            "tags": []
          },
          "execution_count": 53
        }
      ]
    },
    {
      "cell_type": "code",
      "metadata": {
        "colab": {
          "base_uri": "https://localhost:8080/",
          "height": 35
        },
        "id": "OdbPkS4Dfes2",
        "outputId": "2b658684-a3ab-407b-fd59-48337747dca5"
      },
      "source": [
        "permut('1342', '1423')"
      ],
      "execution_count": null,
      "outputs": [
        {
          "output_type": "execute_result",
          "data": {
            "application/vnd.google.colaboratory.intrinsic+json": {
              "type": "string"
            },
            "text/plain": [
              "'1234'"
            ]
          },
          "metadata": {
            "tags": []
          },
          "execution_count": 54
        }
      ]
    },
    {
      "cell_type": "code",
      "metadata": {
        "id": "AFMN90yjgvSW"
      },
      "source": [
        "def get_fraction(st):\n",
        "  return('('+st[2]+'-'+st[0]+')('+st[3]+'-'+st[1]+')/('+st[2]+'-'+st[1]+')('+st[3]+'-'+st[0]+')')"
      ],
      "execution_count": null,
      "outputs": []
    },
    {
      "cell_type": "code",
      "metadata": {
        "colab": {
          "base_uri": "https://localhost:8080/",
          "height": 35
        },
        "id": "mfpXQkywkNpf",
        "outputId": "e49a5f89-1d53-47e6-9411-e09591f64bef"
      },
      "source": [
        "get_fraction('abcd')"
      ],
      "execution_count": null,
      "outputs": [
        {
          "output_type": "execute_result",
          "data": {
            "application/vnd.google.colaboratory.intrinsic+json": {
              "type": "string"
            },
            "text/plain": [
              "'(c-a)(d-b)/(c-b)(d-a)'"
            ]
          },
          "metadata": {
            "tags": []
          },
          "execution_count": 4
        }
      ]
    },
    {
      "cell_type": "code",
      "metadata": {
        "colab": {
          "base_uri": "https://localhost:8080/"
        },
        "id": "VARs74BekP3U",
        "outputId": "c2e1fb6f-1ae5-4b71-a44d-692c1ef91d41"
      },
      "source": [
        "from itertools import permutations\n",
        "all_perm = list(permutations('abcd'))\n",
        "perm=[]\n",
        "for p in all_perm:\n",
        "  word = ''\n",
        "  for i in p:\n",
        "    word+=i\n",
        "  perm.append(word)\n",
        "perm"
      ],
      "execution_count": null,
      "outputs": [
        {
          "output_type": "execute_result",
          "data": {
            "text/plain": [
              "['abcd',\n",
              " 'abdc',\n",
              " 'acbd',\n",
              " 'acdb',\n",
              " 'adbc',\n",
              " 'adcb',\n",
              " 'bacd',\n",
              " 'badc',\n",
              " 'bcad',\n",
              " 'bcda',\n",
              " 'bdac',\n",
              " 'bdca',\n",
              " 'cabd',\n",
              " 'cadb',\n",
              " 'cbad',\n",
              " 'cbda',\n",
              " 'cdab',\n",
              " 'cdba',\n",
              " 'dabc',\n",
              " 'dacb',\n",
              " 'dbac',\n",
              " 'dbca',\n",
              " 'dcab',\n",
              " 'dcba']"
            ]
          },
          "metadata": {
            "tags": []
          },
          "execution_count": 5
        }
      ]
    },
    {
      "cell_type": "code",
      "metadata": {
        "id": "FS7YRekNmcFE"
      },
      "source": [
        "fractions=[get_fraction(p) for p in perm]"
      ],
      "execution_count": null,
      "outputs": []
    },
    {
      "cell_type": "code",
      "metadata": {
        "colab": {
          "base_uri": "https://localhost:8080/"
        },
        "id": "j2CxzyP3npUm",
        "outputId": "e45088cc-bc08-434f-d4e0-d9d120b43233"
      },
      "source": [
        "{p:[f,lmbd] for p,f,lmbd in zip(perm,fractions, [j+1 for j in range(24)])}"
      ],
      "execution_count": null,
      "outputs": [
        {
          "output_type": "execute_result",
          "data": {
            "text/plain": [
              "{'abcd': ['(c-a)(d-b)/(c-b)(d-a)', 1],\n",
              " 'abdc': ['(d-a)(c-b)/(d-b)(c-a)', 2],\n",
              " 'acbd': ['(b-a)(d-c)/(b-c)(d-a)', 3],\n",
              " 'acdb': ['(d-a)(b-c)/(d-c)(b-a)', 4],\n",
              " 'adbc': ['(b-a)(c-d)/(b-d)(c-a)', 5],\n",
              " 'adcb': ['(c-a)(b-d)/(c-d)(b-a)', 6],\n",
              " 'bacd': ['(c-b)(d-a)/(c-a)(d-b)', 7],\n",
              " 'badc': ['(d-b)(c-a)/(d-a)(c-b)', 8],\n",
              " 'bcad': ['(a-b)(d-c)/(a-c)(d-b)', 9],\n",
              " 'bcda': ['(d-b)(a-c)/(d-c)(a-b)', 10],\n",
              " 'bdac': ['(a-b)(c-d)/(a-d)(c-b)', 11],\n",
              " 'bdca': ['(c-b)(a-d)/(c-d)(a-b)', 12],\n",
              " 'cabd': ['(b-c)(d-a)/(b-a)(d-c)', 13],\n",
              " 'cadb': ['(d-c)(b-a)/(d-a)(b-c)', 14],\n",
              " 'cbad': ['(a-c)(d-b)/(a-b)(d-c)', 15],\n",
              " 'cbda': ['(d-c)(a-b)/(d-b)(a-c)', 16],\n",
              " 'cdab': ['(a-c)(b-d)/(a-d)(b-c)', 17],\n",
              " 'cdba': ['(b-c)(a-d)/(b-d)(a-c)', 18],\n",
              " 'dabc': ['(b-d)(c-a)/(b-a)(c-d)', 19],\n",
              " 'dacb': ['(c-d)(b-a)/(c-a)(b-d)', 20],\n",
              " 'dbac': ['(a-d)(c-b)/(a-b)(c-d)', 21],\n",
              " 'dbca': ['(c-d)(a-b)/(c-b)(a-d)', 22],\n",
              " 'dcab': ['(a-d)(b-c)/(a-c)(b-d)', 23],\n",
              " 'dcba': ['(b-d)(a-c)/(b-c)(a-d)', 24]}"
            ]
          },
          "metadata": {
            "tags": []
          },
          "execution_count": 11
        }
      ]
    },
    {
      "cell_type": "code",
      "metadata": {
        "id": "5fNM2U7uom1T"
      },
      "source": [
        ""
      ],
      "execution_count": null,
      "outputs": []
    }
  ]
}